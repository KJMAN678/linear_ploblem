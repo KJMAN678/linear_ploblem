{
 "cells": [
  {
   "cell_type": "code",
   "execution_count": 8,
   "id": "wound-shuttle",
   "metadata": {},
   "outputs": [],
   "source": [
    "import pulp\n",
    "import warnings\n",
    "warnings.simplefilter('ignore')"
   ]
  },
  {
   "cell_type": "markdown",
   "id": "effective-constant",
   "metadata": {},
   "source": [
    "LP; linear programming 線型計画法  "
   ]
  },
  {
   "cell_type": "markdown",
   "id": "decreased-tulsa",
   "metadata": {},
   "source": [
    "### 問題１ 線形計画法"
   ]
  },
  {
   "cell_type": "code",
   "execution_count": 9,
   "id": "furnished-nepal",
   "metadata": {},
   "outputs": [],
   "source": [
    "# 最適化問題の名称の設定と、最小化か最大化の設定\n",
    "prob = pulp.LpProblem('sample', # 名称\n",
    "                      pulp.LpMinimize) # 最小化。なおデフォルトは最小化"
   ]
  },
  {
   "cell_type": "markdown",
   "id": "loose-listing",
   "metadata": {},
   "source": [
    "目的関数:  \n",
    "    z = x + y + 1    \n",
    "制約条件:  \n",
    "    3 * x + 5 * y <= 15  (1)  \n",
    "    2 * x + y >= 4  (2)  \n",
    "    x - y == 1  (3)  \n",
    "    x >= 0  (4)  \n",
    "    y >= 0  (5)  "
   ]
  },
  {
   "cell_type": "code",
   "execution_count": 10,
   "id": "cross-equilibrium",
   "metadata": {},
   "outputs": [],
   "source": [
    "# 変数\n",
    "x = pulp.LpVariable('x', \n",
    "                    lowBound = 0, # 下限をゼロと設定。デフォルトはNone\n",
    "                    upBound=None, # 上限はなしと設定。デフォルトもNone\n",
    "                    cat=pulp.LpContinuous\n",
    "                         # 変数の種類を連続変数とする。デフォルトも\"Continuous\"\n",
    "                    # その他の変数 pulp.LpInteger 整数、pulp.LpBinary 0、1（する／しないを0、1で表す）\n",
    ") # (4)式\n",
    "\n",
    "y = pulp.LpVariable('y',\n",
    "                    lowBound = 0,\n",
    "                    upBound=None,\n",
    "                    cat=pulp.LpContinuous\n",
    ") # (5)式"
   ]
  },
  {
   "cell_type": "code",
   "execution_count": 11,
   "id": "after-paste",
   "metadata": {},
   "outputs": [],
   "source": [
    "# 目的関数の設定\n",
    "prob += x + y + 1"
   ]
  },
  {
   "cell_type": "code",
   "execution_count": 12,
   "id": "peaceful-reverse",
   "metadata": {},
   "outputs": [],
   "source": [
    "# 制約条件\n",
    "prob += 3 * x + 5 * y <= 15 # (1)式\n",
    "prob += 2 * x + y >= 4 # (2)式\n",
    "prob += x - y == 1 # (3)式"
   ]
  },
  {
   "cell_type": "code",
   "execution_count": 13,
   "id": "fixed-framework",
   "metadata": {},
   "outputs": [
    {
     "name": "stdout",
     "output_type": "stream",
     "text": [
      "sample:\n",
      "MINIMIZE\n",
      "1*x + 1*y + 1\n",
      "SUBJECT TO\n",
      "_C1: 3 x + 5 y <= 15\n",
      "\n",
      "_C2: 2 x + y >= 4\n",
      "\n",
      "_C3: x - y = 1\n",
      "\n",
      "VARIABLES\n",
      "x Continuous\n",
      "y Continuous\n",
      "\n"
     ]
    }
   ],
   "source": [
    "# 目的関数と各条件式(_Cx)の確認\n",
    "print(prob)"
   ]
  },
  {
   "cell_type": "code",
   "execution_count": 15,
   "id": "administrative-worse",
   "metadata": {},
   "outputs": [
    {
     "name": "stdout",
     "output_type": "stream",
     "text": [
      "Status Optimal\n"
     ]
    }
   ],
   "source": [
    "# 実行\n",
    "status = prob.solve()\n",
    "\n",
    "# 実行結果を確認\n",
    "print(\"Status\", pulp.LpStatus[status])"
   ]
  },
  {
   "cell_type": "markdown",
   "id": "cheap-devil",
   "metadata": {},
   "source": [
    "|LpStatusキー|文字列値|数値|\n",
    "|---|---|---|\n",
    "|Optimal|\"最適な\"|1|\n",
    "|Not Solved|「未解決」|0|\n",
    "|Infeasible|「実行不可能」|-1|\n",
    "|Unbounded|「無制限」|-2|\n",
    "|Undefined|\"未定義\"|-3|"
   ]
  },
  {
   "cell_type": "code",
   "execution_count": 16,
   "id": "polish-fundamental",
   "metadata": {},
   "outputs": [
    {
     "name": "stdout",
     "output_type": "stream",
     "text": [
      "変数 x 1.6666667\n",
      "変数 y 0.66666667\n",
      "目的関数 z 3.33333337\n"
     ]
    }
   ],
   "source": [
    "# 結果の表示\n",
    "print(\"変数 x\", x.value())\n",
    "print(\"変数 y\", y.value())\n",
    "print(\"目的関数 z\", prob.objective.value())"
   ]
  },
  {
   "cell_type": "markdown",
   "id": "civilian-racing",
   "metadata": {},
   "source": [
    "### 問題２ 栄養問題"
   ]
  },
  {
   "cell_type": "code",
   "execution_count": 20,
   "id": "natural-redhead",
   "metadata": {},
   "outputs": [
    {
     "name": "stdout",
     "output_type": "stream",
     "text": [
      "nourishment:\n",
      "MINIMIZE\n",
      "4*a + 3*b + 5*c + 0\n",
      "SUBJECT TO\n",
      "_C1: 3 a + b + 2 c >= 15\n",
      "\n",
      "_C2: a + 2 b + 4 c >= 10\n",
      "\n",
      "VARIABLES\n",
      "0 <= a Integer\n",
      "0 <= b Integer\n",
      "0 <= c Integer\n",
      "\n",
      "Status Optimal\n",
      "変数 a 4.0\n",
      "変数 b 1.0\n",
      "変数 c 1.0\n",
      "目的関数 24.0\n"
     ]
    }
   ],
   "source": [
    "# 最適化問題の名称の設定と、最小化か最大化の設定\n",
    "prob = pulp.LpProblem('nourishment', # 名称\n",
    "                      pulp.LpMinimize) # 最小化。なおデフォルトは最小化\n",
    "\n",
    "\n",
    "# 変数の設定\n",
    "a = pulp.LpVariable('a', \n",
    "                    lowBound = 0, # 下限をゼロと設定。デフォルトはNone\n",
    "                    upBound=None, # 上限はなしと設定。デフォルトもNone\n",
    "                    cat=pulp.LpInteger\n",
    "                         # 変数の種類を連続変数とする。デフォルトも\"Continuous\"\n",
    "                    # その他の変数 pulp.LpInteger 整数、pulp.LpBinary 0、1（する／しないを0、1で表す）\n",
    ")\n",
    "\n",
    "b = pulp.LpVariable('b',\n",
    "                    lowBound = 0,\n",
    "                    upBound=None,\n",
    "                    cat=pulp.LpInteger\n",
    ") \n",
    "\n",
    "\n",
    "c = pulp.LpVariable('c',\n",
    "                    lowBound = 0,\n",
    "                    upBound=None,\n",
    "                    cat=pulp.LpInteger\n",
    ") \n",
    "\n",
    "\n",
    "# 目的関数の設定\n",
    "prob += 4 * a + 3 * b + 5 * c # 合計金額\n",
    "\n",
    "\n",
    "# 制約条件の設定\n",
    "prob += 3 * a + 1 * b + 2 * c >= 15 # 栄養素ｘ\n",
    "prob += 1 * a + 2 * b + 4 * c >= 10 # 栄養素ｙ\n",
    "\n",
    "# 目的関数と各条件式(_Cx)の確認\n",
    "print(prob)\n",
    "\n",
    "# 実行\n",
    "status = prob.solve()\n",
    "\n",
    "# 実行結果を確認\n",
    "print(\"Status\", pulp.LpStatus[status])\n",
    "\n",
    "# 結果の表示\n",
    "print(\"変数 a\", a.value())\n",
    "print(\"変数 b\", b.value())\n",
    "print(\"変数 c\", c.value())\n",
    "print(\"目的関数\", prob.objective.value())"
   ]
  },
  {
   "cell_type": "markdown",
   "id": "domestic-album",
   "metadata": {},
   "source": [
    "### 問題３ 生産計画問題"
   ]
  },
  {
   "cell_type": "code",
   "execution_count": 23,
   "id": "important-fountain",
   "metadata": {},
   "outputs": [
    {
     "name": "stdout",
     "output_type": "stream",
     "text": [
      "Production_Planning:\n",
      "MAXIMIZE\n",
      "5*a + 3*b + 2*c + 4*d + 0\n",
      "SUBJECT TO\n",
      "_C1: 2 a + d <= 4\n",
      "\n",
      "_C2: a + 2 b <= 8\n",
      "\n",
      "_C3: b + c <= 6\n",
      "\n",
      "_C4: 2 c + 2 d <= 10\n",
      "\n",
      "VARIABLES\n",
      "1 <= a Continuous\n",
      "1 <= b Continuous\n",
      "1 <= c Continuous\n",
      "1 <= d Continuous\n",
      "\n",
      "Status Optimal\n",
      "変数 a 1.0\n",
      "変数 b 3.5\n",
      "変数 c 2.5\n",
      "変数 c 2.0\n",
      "目的関数 28.5\n"
     ]
    }
   ],
   "source": [
    "# 最適化問題の名称の設定と、最小化か最大化の設定\n",
    "prob = pulp.LpProblem('Production Planning', # 名称\n",
    "                      pulp.LpMaximize) # 最大化。なおデフォルトは最小化\n",
    "\n",
    "\n",
    "# 変数の設定\n",
    "a = pulp.LpVariable('a', \n",
    "                    lowBound = 1, # 下限を１と設定。デフォルトはNone\n",
    "                    upBound=None, # 上限はなしと設定。デフォルトもNone\n",
    "                    cat=pulp.LpContinuous\n",
    "                         # 変数の種類を連続変数とする。デフォルトも\"Continuous\"\n",
    "                    # その他の変数 pulp.LpInteger 整数、pulp.LpBinary 0、1（する／しないを0、1で表す）\n",
    ")\n",
    "\n",
    "b = pulp.LpVariable('b',\n",
    "                    lowBound = 1,\n",
    "                    upBound=None,\n",
    "                    cat=pulp.LpContinuous\n",
    ") \n",
    "\n",
    "\n",
    "c = pulp.LpVariable('c',\n",
    "                    lowBound = 1,\n",
    "                    upBound=None,\n",
    "                    cat=pulp.LpContinuous\n",
    ") \n",
    "\n",
    "d = pulp.LpVariable('d',\n",
    "                    lowBound = 1,\n",
    "                    upBound=None,\n",
    "                    cat=pulp.LpContinuous\n",
    ") \n",
    "\n",
    "\n",
    "# 目的関数の設定 # 利益\n",
    "prob += 5 * a + \\\n",
    "        3 * b + \\\n",
    "        2 * c + \\\n",
    "        4 * d\n",
    "\n",
    "\n",
    "# 制約条件の設定\n",
    "prob += 2 * a + 0 * b + 0 * c + 1 * d <= 4 # 原料w\n",
    "prob += 1 * a + 2 * b + 0 * c + 0 * d <= 8 # 原料x\n",
    "prob += 0 * a + 1 * b + 1 * c + 0 * d <= 6 # 原料y\n",
    "prob += 0 * a + 0 * b + 2 * c + 2 * d <= 10 # 原料z\n",
    "\n",
    "# 目的関数と各条件式(_Cx)の確認\n",
    "print(prob)\n",
    "\n",
    "# 実行\n",
    "status = prob.solve()\n",
    "\n",
    "# 実行結果を確認\n",
    "print(\"Status\", pulp.LpStatus[status])\n",
    "\n",
    "# 結果の表示\n",
    "print(\"変数 a\", a.value())\n",
    "print(\"変数 b\", b.value())\n",
    "print(\"変数 c\", c.value())\n",
    "print(\"変数 c\", d.value())\n",
    "print(\"目的関数\", prob.objective.value())"
   ]
  },
  {
   "cell_type": "markdown",
   "id": "brief-hospital",
   "metadata": {},
   "source": [
    "### 問題４ 輸送問題"
   ]
  },
  {
   "cell_type": "code",
   "execution_count": 27,
   "id": "activated-maria",
   "metadata": {},
   "outputs": [
    {
     "name": "stdout",
     "output_type": "stream",
     "text": [
      "Production_Planning:\n",
      "MINIMIZE\n",
      "10*xa + 6*xb + 16*xc + 8*ya + 8*yb + 4*yc + 0\n",
      "SUBJECT TO\n",
      "_C1: xa + xb + xc <= 8\n",
      "\n",
      "_C2: ya + yb + yc <= 16\n",
      "\n",
      "_C3: xa + ya >= 12\n",
      "\n",
      "_C4: xb + yb >= 4\n",
      "\n",
      "_C5: xc + yc >= 8\n",
      "\n",
      "VARIABLES\n",
      "xa Continuous\n",
      "xb Continuous\n",
      "xc Continuous\n",
      "ya Continuous\n",
      "yb Continuous\n",
      "yc Continuous\n",
      "\n",
      "Status Optimal\n",
      "変数 xa 4.0\n",
      "変数 xb 4.0\n",
      "変数 xc 0.0\n",
      "変数 ya 8.0\n",
      "変数 yb 0.0\n",
      "変数 yc 8.0\n",
      "目的関数 160.0\n"
     ]
    }
   ],
   "source": [
    "# 最適化問題の名称の設定と、最小化か最大化の設定\n",
    "prob = pulp.LpProblem('Production Planning', # 名称\n",
    "                      pulp.LpMinimize) # 最小化。なおデフォルトは最小化\n",
    "\n",
    "\n",
    "# 変数の設定\n",
    "xa = pulp.LpVariable('xa', \n",
    "                    lowBound = 0, # 下限をゼロと設定。デフォルトはNone\n",
    "                    upBound=None, # 上限はなしと設定。デフォルトもNone\n",
    "                    cat=pulp.LpContinuous\n",
    "                         # 変数の種類を連続変数とする。デフォルトも\"Continuous\"\n",
    "                    # その他の変数 pulp.LpInteger 整数、pulp.LpBinary 0、1（する／しないを0、1で表す）\n",
    ")\n",
    "\n",
    "xb = pulp.LpVariable('xb',\n",
    "                    lowBound = 0,\n",
    "                    upBound=None,\n",
    "                    cat=pulp.LpContinuous\n",
    ") \n",
    "\n",
    "\n",
    "xc = pulp.LpVariable('xc',\n",
    "                    lowBound = 0,\n",
    "                    upBound=None,\n",
    "                    cat=pulp.LpContinuous\n",
    ") \n",
    "\n",
    "ya = pulp.LpVariable('ya', \n",
    "                    lowBound = 0, # 下限をゼロと設定。デフォルトはNone\n",
    "                    upBound=None, # 上限はなしと設定。デフォルトもNone\n",
    "                    cat=pulp.LpContinuous\n",
    "                         # 変数の種類を連続変数とする。デフォルトも\"Continuous\"\n",
    "                    # その他の変数 pulp.LpInteger 整数、pulp.LpBinary 0、1（する／しないを0、1で表す）\n",
    ")\n",
    "\n",
    "yb = pulp.LpVariable('yb',\n",
    "                    lowBound = 0,\n",
    "                    upBound=None,\n",
    "                    cat=pulp.LpContinuous\n",
    ") \n",
    "\n",
    "\n",
    "yc = pulp.LpVariable('yc',\n",
    "                    lowBound = 0,\n",
    "                    upBound=None,\n",
    "                    cat=pulp.LpContinuous\n",
    ") \n",
    "\n",
    "\n",
    "# 目的関数の設定 # 輸送コスト\n",
    "prob += 10 * xa + \\\n",
    "        6 * xb + \\\n",
    "        16 * xc + \\\n",
    "        8 * ya + \\\n",
    "        8 * yb + \\\n",
    "        4 * yc\n",
    "\n",
    "\n",
    "# 制約条件の設定\n",
    "prob += xa + xb + xc <= 8 # 工場xの供給量\n",
    "prob += ya + yb + yc <= 16 # 工場xの供給量\n",
    "\n",
    "prob += xa + ya >= 12 # 店aの需要量\n",
    "prob += xb + yb >= 4 # 店bの需要量\n",
    "prob += xc + yc >= 8 # 店cの需要量\n",
    "\n",
    "# 目的関数と各条件式(_Cx)の確認\n",
    "print(prob)\n",
    "\n",
    "# 実行\n",
    "status = prob.solve()\n",
    "\n",
    "# 実行結果を確認\n",
    "print(\"Status\", pulp.LpStatus[status])\n",
    "\n",
    "# 結果の表示\n",
    "print(\"変数 xa\", xa.value())\n",
    "print(\"変数 xb\", xb.value())\n",
    "print(\"変数 xc\", xc.value())\n",
    "print(\"変数 ya\", ya.value())\n",
    "print(\"変数 yb\", yb.value())\n",
    "print(\"変数 yc\", yc.value())\n",
    "\n",
    "print(\"目的関数\", prob.objective.value())"
   ]
  },
  {
   "cell_type": "code",
   "execution_count": null,
   "id": "alleged-rider",
   "metadata": {},
   "outputs": [],
   "source": []
  }
 ],
 "metadata": {
  "kernelspec": {
   "display_name": "Python 3",
   "language": "python",
   "name": "python3"
  },
  "language_info": {
   "codemirror_mode": {
    "name": "ipython",
    "version": 3
   },
   "file_extension": ".py",
   "mimetype": "text/x-python",
   "name": "python",
   "nbconvert_exporter": "python",
   "pygments_lexer": "ipython3",
   "version": "3.8.5"
  }
 },
 "nbformat": 4,
 "nbformat_minor": 5
}
